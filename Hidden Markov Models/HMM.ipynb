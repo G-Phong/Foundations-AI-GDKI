{
 "cells": [
  {
   "cell_type": "markdown",
   "metadata": {},
   "source": [
    "# Programming Exercise 4, Problem 2: Viterbi Algorithm"
   ]
  },
  {
   "cell_type": "markdown",
   "metadata": {},
   "source": [
    "The goal of this task is to learn about the how to implement the Viterbi algorithm for a hidden Markov model."
   ]
  },
  {
   "cell_type": "markdown",
   "metadata": {},
   "source": [
    "Image you have a sweeping robot vacuum cleaner at home to help you keep the floor clean. \n",
    "The robot has a camera for detecting the floor color beneath it to help it localize itself.\n",
    "But the camera is not perfect. \n",
    "So, the robot might also observe other colors instead of the actual floor color with a low probability.\n",
    "Now, we help our robot to get the most likely sequence of its positions based on the sequences of detected color.\n",
    "\n",
    "Your tasks is to complete the missing code. Make sure that all the functions follow the provided interfaces of the functions, i.e. the output of the function exactly matches the description in the docstring.\n",
    "Adding or modifying code outside of the following comment blocks is not required:\n",
    "\n",
    "```\n",
    "##########################################################\n",
    "# YOUR CODE HERE\n",
    ".....\n",
    "##########################################################\n",
    "```"
   ]
  },
  {
   "cell_type": "markdown",
   "metadata": {},
   "source": [
    "### Learing Outcomes:"
   ]
  },
  {
   "cell_type": "markdown",
   "metadata": {},
   "source": [
    "* implement prior matrix, transition model, sensor model\n",
    "* implement viterbi algorithm"
   ]
  },
  {
   "cell_type": "markdown",
   "metadata": {},
   "source": [
    "### Import"
   ]
  },
  {
   "cell_type": "markdown",
   "metadata": {},
   "source": [
    "For testing and grading, we want to state that you are not allowed to import \n",
    "any other libraries and should not change the structure of the provided functions \n",
    "(i.a. the arguments and the name of the functions)."
   ]
  },
  {
   "cell_type": "code",
   "execution_count": null,
   "metadata": {},
   "outputs": [],
   "source": [
    "import numpy as np\n",
    "import matplotlib.pyplot as plt\n",
    "import networkx as nx\n",
    "import random\n",
    "import os\n",
    "import ipywidgets "
   ]
  },
  {
   "cell_type": "markdown",
   "metadata": {},
   "source": [
    "### Map Representation (Nothing to change here)"
   ]
  },
  {
   "cell_type": "markdown",
   "metadata": {},
   "source": [
    "At first, we create a rectangular map; the floor color will be choosen randomly from a given colorlist.\n",
    "See section \"Create Map\" for an example visualization.\n",
    "\n",
    "We use NetworkX 2d graph to represent the map. The nodes represent robot possible positions.\n",
    "If two nodes are connected with an egde, it means the robot can move between them. To get more information about networkx:\n",
    "https://networkx.org/documentation/latest/release/release_dev.html"
   ]
  },
  {
   "cell_type": "code",
   "execution_count": null,
   "metadata": {},
   "outputs": [],
   "source": [
    "def create_rect_map(x_dim = 3, y_dim = 3,colorlist = [\"red\",\"green\",\"blue\"]):\n",
    "    \"\"\"create a rectangular map given the map size and colorlist\n",
    "    \n",
    "    Args:\n",
    "        x_dim: number of grids in x dimension, Horizontal \n",
    "        y_dim: number of grids in y dimension, Vertical\n",
    "        colorlist: a list of color name\n",
    "    \n",
    "    Return:\n",
    "        Graph: a 2d networkx graph\n",
    "    \"\"\"\n",
    "    \n",
    "    assert x_dim > 0, \"x dimension should be larger than zero\"\n",
    "    assert y_dim > 0, \"y dimension should be larger than zero\"\n",
    "    assert len(colorlist) > 0, \"color list can't be empty\"\n",
    "    \n",
    "    # create a 2d NetworkX graph \n",
    "    Graph = nx.grid_2d_graph(x_dim,y_dim)\n",
    "    \n",
    "    # add x_dim and y_dim as graph attribute\n",
    "    Graph.graph['x_dim'] = x_dim\n",
    "    Graph.graph['y_dim'] = y_dim\n",
    "    \n",
    "    # add the across edges, which connect the lower left and upper right nodes, also\n",
    "    # the lower right and upper left nodes\n",
    "    for i, j in Graph.nodes():\n",
    "        if (i + 1 < x_dim) and (j + 1 < y_dim):\n",
    "            Graph.add_edge((i,j), (i + 1, j + 1))\n",
    "        if (i + 1 < x_dim) and (j - 1 >= 0) :\n",
    "            Graph.add_edge((i,j), (i + 1, j - 1))\n",
    "            \n",
    "        # randomly assign color to each node and add color as an attibute of node\n",
    "        Graph.nodes[(i,j)]['color'] = random.choice(colorlist)\n",
    "\n",
    "    # a labels dictionary to map the (x,y) to a number(starting from 0) in order\n",
    "    labels = {}\n",
    "    # a inverse labels dictionary to map the number(starting from 0) to (x,y) in order\n",
    "    labels_inv = {}\n",
    "\n",
    "    for index, (i,j) in enumerate (Graph.nodes()):\n",
    "        labels[(i,j)] = index\n",
    "        labels_inv[index] = (i,j)\n",
    "        \n",
    "    # add labels dictionary and labels inv dictinary as graph attribute    \n",
    "    Graph.graph['labels'] = labels\n",
    "    Graph.graph['labels_inv'] = labels_inv\n",
    "             \n",
    "    return Graph\n",
    "    "
   ]
  },
  {
   "cell_type": "markdown",
   "metadata": {},
   "source": [
    "The map shows the robot possible position, \n",
    "connecticity between position and the floor color for each position."
   ]
  },
  {
   "cell_type": "code",
   "execution_count": null,
   "metadata": {},
   "outputs": [],
   "source": [
    "def draw_map(Graph, show_labels = False, nodelist = None):\n",
    "    \n",
    "    \"\"\" Map Visualization\n",
    "    \n",
    "    Args:\n",
    "        Graph: 2d NetworkX graph\n",
    "        show_labels: False: shows (x,y) upon the node\n",
    "                     True: shows number upon the node\n",
    "        nodelist: only shows the node in nodelist\n",
    "\n",
    "    \"\"\"\n",
    "    \n",
    "    # get x_dim, y_dim and labels from graph attributes\n",
    "    x_dim = Graph.graph['x_dim']\n",
    "    y_dim = Graph.graph['y_dim']\n",
    "    labels = Graph.graph['labels']\n",
    "    \n",
    "    # node position in figure\n",
    "    pos = dict( (n, n) for n in Graph.nodes())\n",
    "    \n",
    "    # to store the node color in order\n",
    "    node_color = []\n",
    "    if (nodelist == None):\n",
    "        for (x,y),color in Graph.nodes.data('color'):\n",
    "            node_color.append(color)\n",
    "    else:\n",
    "        for node in nodelist:\n",
    "            node_color.append(Graph.nodes[node]['color'])\n",
    "            \n",
    "    # draw the map\n",
    "    plt.figure(figsize = (x_dim,y_dim), dpi = 100)\n",
    "    \n",
    "    if show_labels == True:\n",
    "        # node_shape='s' node will be drawn as a square   \n",
    "        # node_shape='o' node will be drawn as a circle \n",
    "        nx.draw_networkx(Graph,node_shape='o',nodelist = nodelist, node_color = node_color, \n",
    "                         node_size = 1000, font_size =10, pos=pos,labels = labels)\n",
    "    else:\n",
    "        nx.draw_networkx(Graph,node_shape='o',nodelist = nodelist, node_color = node_color, \n",
    "                         node_size = 1000, font_size =10, pos=pos)\n",
    "    \n",
    "    plt.axis('off')\n",
    "    plt.xlim(-1, x_dim)\n",
    "    plt.ylim(-1, y_dim)\n",
    "    plt.show()\n",
    "    "
   ]
  },
  {
   "cell_type": "code",
   "execution_count": null,
   "metadata": {},
   "outputs": [],
   "source": [
    "# only the color in colorlist will be used\n",
    "colorlist = [\"pink\",\"red\",\"orange\",\"yellow\",\"green\",\"blue\",\"purple\",\"grey\"]"
   ]
  },
  {
   "cell_type": "markdown",
   "metadata": {},
   "source": [
    "### Create Map"
   ]
  },
  {
   "cell_type": "markdown",
   "metadata": {},
   "source": [
    "Create a map with random color, you can also change the map size or \n",
    "choose different colors from the colorlist. Execute the cell below to get an idea of what the map looks like."
   ]
  },
  {
   "cell_type": "code",
   "execution_count": null,
   "metadata": {
    "scrolled": false
   },
   "outputs": [],
   "source": [
    "# number of grids in x dimension, Horizontal, change it to create different map\n",
    "x_dim = 5\n",
    "# number of grids in y dimension, Vertical, change it to create different map\n",
    "y_dim = 5\n",
    "# please only use the colors that exist in colorlist, change it to create different map\n",
    "colors = [\"pink\",\"red\",\"orange\",\"yellow\",\"green\",\"blue\",\"purple\",\"grey\"]\n",
    "\n",
    "Graph = create_rect_map(x_dim, y_dim, colors)\n",
    "\n",
    "draw_map(Graph)\n",
    "\n",
    "# uncomment to only print the nodes\n",
    "# print(Graph.nodes)\n",
    "\n",
    "# uncomment to print the nodes with color information\n",
    "# print(Graph.nodes(data=True))\n",
    "\n",
    "# uncomment to print the egdes\n",
    "# print(Graph.edges)"
   ]
  },
  {
   "cell_type": "markdown",
   "metadata": {},
   "source": [
    "To better identify the node, we assign a number as label (starting from 0) for each node. The order is based on the node order when printing Graph.nodes()."
   ]
  },
  {
   "cell_type": "code",
   "execution_count": null,
   "metadata": {},
   "outputs": [],
   "source": [
    "# draw the map with showing the number of the nodes\n",
    "draw_map(Graph, show_labels = True)"
   ]
  },
  {
   "cell_type": "markdown",
   "metadata": {},
   "source": [
    "To convert our robot localization task into a hidden markov model problem. \n",
    "We consider position as the hidden state $X_t$. Observed color by the camera as the observable variable $E_t$."
   ]
  },
  {
   "cell_type": "markdown",
   "metadata": {},
   "source": [
    "### Define prior matrix"
   ]
  },
  {
   "cell_type": "markdown",
   "metadata": {},
   "source": [
    "If no further information is provided, we assume that the robot can start from any position with same probability."
   ]
  },
  {
   "cell_type": "code",
   "execution_count": null,
   "metadata": {
    "scrolled": false
   },
   "outputs": [],
   "source": [
    "def get_prior(Graph):\n",
    "    \n",
    "    \"\"\" given the NetworkX 2d graph, return the prior matrix.\n",
    "        The robot can start from any position with same probability.\n",
    "    \n",
    "    Args:\n",
    "        Graph: 2d NetworkX graph\n",
    "        \n",
    "    Return: \n",
    "        prior: numpy array with shape = [S,1], (number_nodes: number of nodes)\n",
    "\n",
    "    \"\"\"\n",
    "    number_nodes = len(Graph.nodes())\n",
    "    #######################################\n",
    "    # YOUR CODE HERE\n",
    "\n",
    "    #######################################\n",
    "    return prior"
   ]
  },
  {
   "cell_type": "code",
   "execution_count": null,
   "metadata": {},
   "outputs": [],
   "source": [
    "prior = get_prior(Graph)\n",
    "#print(prior)"
   ]
  },
  {
   "cell_type": "markdown",
   "metadata": {},
   "source": [
    "### Define transition model"
   ]
  },
  {
   "cell_type": "markdown",
   "metadata": {},
   "source": [
    "Let $S$ be the number of possible states.\n",
    "The transition model $P(X_t | X_{t−1} )$ becomes an $S × S$ matrix $T$, where\n",
    "$T_{ij} = P (X_t = j | X_{t−1} = i)$.\n",
    "That is, $T_{ij}$ is the probability of a transition from state i to state j."
   ]
  },
  {
   "cell_type": "markdown",
   "metadata": {},
   "source": [
    "If one position is connected to other neighbor position (i.e., there is an egde between the nodes), then the robot can move between them.\n",
    "The robot has the same probability to move from the current position to all of its neighbors."
   ]
  },
  {
   "cell_type": "code",
   "execution_count": null,
   "metadata": {},
   "outputs": [],
   "source": [
    "def get_transition_model(Graph):\n",
    "    \"\"\" given the NetworkX 2d graph, return the transition model matrix.\n",
    "       \n",
    "    Args:\n",
    "        Graph: 2d NetworkX graph\n",
    "        \n",
    "    Return: \n",
    "        transition_model: numpy array with shape = [S, S], (S: number of nodes)\n",
    "\n",
    "    \"\"\"\n",
    "    \n",
    "    # An adjacency matrix A is a square matrix used to represent a finite graph.\n",
    "    # The elements A_ij of the matrix indicate whether pairs of nodes i,j are adjacent (A_ij=1)\n",
    "    # or not (A_ij=0) in the graph.\n",
    "    \n",
    "    # adjacency_matrix is a SciPy sparse matrix. We convert it to a dense matrix, i.e. a usual numpy array.\n",
    "    adjacency_matrix = nx.adjacency_matrix(Graph).todense()\n",
    "    \n",
    "    # transform SciPy matrix to numpy array\n",
    "    adjacency_matrix = np.asarray(adjacency_matrix)\n",
    "    \n",
    "    #######################################\n",
    "    # YOUR CODE HERE\n",
    "    \n",
    "    #######################################\n",
    "    \n",
    "    return transition_model"
   ]
  },
  {
   "cell_type": "code",
   "execution_count": null,
   "metadata": {},
   "outputs": [],
   "source": [
    "transition_model = get_transition_model(Graph)\n",
    "#print(transition_model)"
   ]
  },
  {
   "cell_type": "markdown",
   "metadata": {},
   "source": [
    "### Define sensor model"
   ]
  },
  {
   "cell_type": "markdown",
   "metadata": {},
   "source": [
    "$C$ is the number of color types. \n",
    "The conditional probability matrix `color_matrix` is a $C × C$ matrix.\n",
    "`color_matrix[i,j]` is the probability of observing a color i while being on a node with color j."
   ]
  },
  {
   "cell_type": "code",
   "execution_count": null,
   "metadata": {},
   "outputs": [],
   "source": [
    "color_matrix = np.eye(len(colorlist)) * 0.5 + 0.2\n",
    "# print(color_matrix)"
   ]
  },
  {
   "cell_type": "markdown",
   "metadata": {},
   "source": [
    "Then the sensor model $P(E_t | X_t )$ is a $S × C$ matrix $O$, where\n",
    "$O_{ij} = P (E_t = j | X_t = i)$.\n",
    "That is, $O_{ij}$ is the probability of being in state i to observe variable j."
   ]
  },
  {
   "cell_type": "code",
   "execution_count": null,
   "metadata": {},
   "outputs": [],
   "source": [
    "def get_sensor_model(Graph, colorlist, color_matrix):\n",
    "    \"\"\" given the NetworkX 2d graph, colorlist, color_matrix, return the sensor model matrix.\n",
    "       \n",
    "    Args:\n",
    "        Graph: 2d NetworkX graph\n",
    "        colorlist: a list of color name\n",
    "        color_matrix: numpy array, conditional probability matrix\n",
    "        \n",
    "    Return: \n",
    "        sensor_model: S * C numpy array (S: number of nodes, C: number of color types)\n",
    "\n",
    "    \"\"\"\n",
    "    \n",
    "    sensor_model = np.zeros((len(Graph.nodes()),len(colorlist)))\n",
    "    \n",
    "    for num,(node,node_color) in enumerate(Graph.nodes.data('color')):\n",
    "        #######################################\n",
    "        # YOUR CODE HERE\n",
    "      \n",
    "        #######################################\n",
    "    return sensor_model"
   ]
  },
  {
   "cell_type": "code",
   "execution_count": null,
   "metadata": {},
   "outputs": [],
   "source": [
    "sensor_model = get_sensor_model(Graph,colorlist,color_matrix)\n",
    "#print(sensor_model)"
   ]
  },
  {
   "cell_type": "markdown",
   "metadata": {},
   "source": [
    "### Define HMM (nothing to change here)"
   ]
  },
  {
   "cell_type": "code",
   "execution_count": null,
   "metadata": {},
   "outputs": [],
   "source": [
    "class HiddenMarkovModel:\n",
    "    \"\"\" Hidden Markov Model\n",
    "       \n",
    "    Args:\n",
    "        Graph: 2d NetworkX graph\n",
    "        colorlist: a list of color name\n",
    "        color_matrix: numpy array, conditional probability matrix\n",
    "        transition_model: S * S numpy array (S: number of nodes)\n",
    "        sensor_model: S * C numpy array (S: number of nodes, C: number of color types)\n",
    "        prior: S * 1 numpy array (S: number of nodes)\n",
    "\n",
    "    \"\"\"\n",
    "  \n",
    "    def __init__(self, Graph,colorlist, color_matrix, transition_model= None, \n",
    "                 sensor_model= None, prior = None):\n",
    "        \n",
    "        self.Graph = Graph\n",
    "        self.colorlist = colorlist\n",
    "        self.color_matrix = color_matrix\n",
    "        \n",
    "        if transition_model != None:\n",
    "            self.transition_model = transition_model\n",
    "        else:\n",
    "            self.transition_model = get_transition_model(Graph)\n",
    "        if sensor_model != None:\n",
    "            self.sensor_model = sensor_model\n",
    "        else:\n",
    "            self.sensor_model = get_sensor_model(Graph,colorlist,color_matrix)\n",
    "        if prior != None:    \n",
    "            self.prior = prior\n",
    "        else:\n",
    "            self.prior = get_prior(Graph)"
   ]
  },
  {
   "cell_type": "markdown",
   "metadata": {},
   "source": [
    "### Viterbi Algorithm"
   ]
  },
  {
   "cell_type": "markdown",
   "metadata": {},
   "source": [
    "The robot observes a sequence of colors. Use the Viterbi algorithm to compute the most likely sequence of nodes.\n",
    "Keep in mind: Most likely sequence $ \\neq $ sequence of most likely states..."
   ]
  },
  {
   "cell_type": "code",
   "execution_count": null,
   "metadata": {},
   "outputs": [],
   "source": [
    "def return_most_likely_trajectory(HMM, obs_trajectory):\n",
    "    \"\"\"use Viterbi algorithm to get the most likely trajectory of robot \n",
    "       given observed color sequence\n",
    "    \n",
    "    Args:\n",
    "        HMM: an object of class HiddenMarkovModel\n",
    "        obs_trajectory: observed color sequence, a list of color names\n",
    "    \n",
    "    Return:\n",
    "        most_likely_trajectory: a numpy array of node labels, e.g. [0 2 1 3]\n",
    "        most_likely_trajectory and obs_trajectory should has the same length \n",
    "    \"\"\"\n",
    "    \n",
    "    colorlist = HMM.colorlist\n",
    "    most_likely_trajectory = np.zeros(len(obs_trajectory),dtype = int)\n",
    "    #######################################\n",
    "    # YOUR CODE HERE\n",
    "    # TO DO： implement the Viterbi algorithm to get the most likely trajectory\n",
    "    \n",
    "    \n",
    "   \n",
    "\n",
    "\n",
    "\n",
    "\n",
    "\n",
    "\n",
    "\n",
    "    #######################################\n",
    "\n",
    "    return most_likely_trajectory"
   ]
  },
  {
   "cell_type": "markdown",
   "metadata": {},
   "source": [
    "### Visualization (nothing to change here)"
   ]
  },
  {
   "cell_type": "code",
   "execution_count": null,
   "metadata": {
    "scrolled": true
   },
   "outputs": [],
   "source": [
    "def draw_trajectory(Graph, most_likely_trajectory):\n",
    "    \n",
    "    \"\"\" draw the estimated trajectory\n",
    "    \n",
    "    Args:\n",
    "        Graph: 2d NetworkX graph\n",
    "        most_likely_trajectory: a numpy array of node labels\n",
    "        \n",
    "    \"\"\"\n",
    "    \n",
    "    labels = Graph.graph['labels']\n",
    "    labels_inv = Graph.graph['labels_inv']\n",
    "    nodelist = []\n",
    "    \n",
    "    # get the nodes which will be shown\n",
    "    for state in most_likely_trajectory:\n",
    "        for key,value in labels.items():\n",
    "            if value == state:\n",
    "                nodelist.append(key)\n",
    "    \n",
    "    # directed graph \n",
    "    DiGraph = nx.DiGraph()\n",
    "    DiGraph.graph = Graph.graph\n",
    "    \n",
    "    # add nodes from Graph\n",
    "    DiGraph.add_nodes_from(Graph)\n",
    "    for node in DiGraph.nodes():\n",
    "        DiGraph.nodes[node]['color'] = Graph.nodes[node]['color'] \n",
    "\n",
    "    # add edges\n",
    "    for i in range(len(most_likely_trajectory)-1):\n",
    "        \n",
    "        first = labels_inv[most_likely_trajectory[i]]\n",
    "        second = labels_inv[most_likely_trajectory[i+1]]\n",
    "    \n",
    "        DiGraph.add_edge(first,second )\n",
    "        \n",
    "    draw_map(DiGraph, True,nodelist)"
   ]
  },
  {
   "cell_type": "markdown",
   "source": [
    "First, suppose the robot starts at any point and observes a sequence of colors.\n",
    "We show the results of the Viterbi algorithm below."
   ],
   "metadata": {
    "collapsed": false,
    "pycharm": {
     "name": "#%% md\n"
    }
   }
  },
  {
   "cell_type": "code",
   "execution_count": null,
   "metadata": {
    "scrolled": false
   },
   "outputs": [],
   "source": [
    "# load predefinded graphs in data folder\n",
    "Graph = nx.read_gpickle(\"data/HMM_data/8_6.gpickle\")\n",
    "# use the graph, colorlist and color_matirx to generate a hidden markov model\n",
    "hmm = HiddenMarkovModel(Graph, colorlist, color_matrix)\n",
    "# visualize the graph with labels\n",
    "draw_map(hmm.Graph, show_labels = True)"
   ]
  },
  {
   "cell_type": "code",
   "execution_count": null,
   "metadata": {},
   "outputs": [],
   "source": [
    "# robot observed color sequences\n",
    "obs_trajectory = [ \"blue\",\"orange\",\"red\", \"grey\", \"grey\",\"grey\",\"grey\",\"yellow\",\"orange\",\"green\",\"yellow\",\"blue\"]\n",
    "\n",
    "# get the most likely trajectory\n",
    "most_likely_trajectory = return_most_likely_trajectory(hmm,obs_trajectory)\n",
    "print(\"most_likely_trajectory:\", most_likely_trajectory)\n",
    "draw_trajectory(hmm.Graph,most_likely_trajectory)"
   ]
  },
  {
   "cell_type": "code",
   "execution_count": null,
   "metadata": {},
   "outputs": [],
   "source": [
    "def vis_by_step(step):\n",
    "    most_likely_trajectory = return_most_likely_trajectory(hmm,obs_trajectory[0:step])\n",
    "    print(\"most likely trajectory:\", most_likely_trajectory)\n",
    "    draw_trajectory(hmm.Graph,most_likely_trajectory)"
   ]
  },
  {
   "cell_type": "markdown",
   "metadata": {},
   "source": [
    "You can use your mouse to move the slider to see how the estimated trajectory changes over time."
   ]
  },
  {
   "cell_type": "code",
   "execution_count": null,
   "metadata": {
    "scrolled": false
   },
   "outputs": [],
   "source": [
    "x_widget = ipywidgets.IntSlider(min = 1, max = len(obs_trajectory), step = 1)\n",
    "vis = ipywidgets.interact(vis_by_step, step = x_widget)"
   ]
  },
  {
   "cell_type": "markdown",
   "metadata": {},
   "source": [
    "Now suppose the robot can only start at point A. What is the most likely trajectory?"
   ]
  },
  {
   "cell_type": "code",
   "execution_count": null,
   "metadata": {
    "scrolled": false
   },
   "outputs": [],
   "source": [
    "# load predefinded graphs in data folder\n",
    "Graph = nx.read_gpickle(\"data/HMM_data/8_6.gpickle\")\n",
    "# use the graph, colorlist and color_matrix to generate a hidden markov model\n",
    "hmm_1 = HiddenMarkovModel(Graph, colorlist, color_matrix)\n",
    "# define the prior matrix based on the information\n",
    "hmm_1.prior = np.full((len(Graph.nodes()),), 0)\n",
    "\n",
    "# you can change this to see the differences\n",
    "start_position = 1\n",
    "hmm_1.prior[start_position] = 1\n",
    "\n",
    "most_likely_trajectory = return_most_likely_trajectory(hmm_1,obs_trajectory)\n",
    "print(\"most_likely_trajectory:\", most_likely_trajectory)\n",
    "\n",
    "draw_trajectory(Graph,most_likely_trajectory)"
   ]
  },
  {
   "cell_type": "code",
   "execution_count": null,
   "outputs": [],
   "source": [
    "def vis_by_step_2(step):\n",
    "    most_likely_trajectory = return_most_likely_trajectory(hmm_1,obs_trajectory[0:step])\n",
    "    print(\"most likely trajectory:\", most_likely_trajectory)\n",
    "    draw_trajectory(hmm.Graph,most_likely_trajectory)\n",
    "\n",
    "x_widget = ipywidgets.IntSlider(min = 1, max = len(obs_trajectory), step = 1)\n",
    "vis = ipywidgets.interact(vis_by_step_2, step = x_widget)"
   ],
   "metadata": {
    "collapsed": false,
    "pycharm": {
     "name": "#%%\n"
    }
   }
  },
  {
   "cell_type": "markdown",
   "metadata": {},
   "source": [
    "### Try it out"
   ]
  },
  {
   "cell_type": "markdown",
   "metadata": {},
   "source": [
    "We provide a method to randomly generate observations of the graph.\n",
    "You can load other predefinded graphs in the data folder or change the color matrix to see the hidden markov model performance."
   ]
  },
  {
   "cell_type": "code",
   "execution_count": null,
   "metadata": {},
   "outputs": [],
   "source": [
    "def randomly_generate_obs_trajectory(Graph,n):\n",
    "    \"\"\" randomly generate a trajectory with length of n\n",
    "    \n",
    "    Args:\n",
    "        Graph: 2d NetworkX graph\n",
    "        n: the length of the trajectory\n",
    "    \n",
    "    Return:\n",
    "        truth_trajectory_lables: a list of labels, e.g. [0, 2, 1, 3]\n",
    "        obs_trajectory: a list of color name \n",
    "    \"\"\"\n",
    "    \n",
    "    number_node = len(Graph.nodes)\n",
    "    # list of node\n",
    "    truth_trajectory = []\n",
    "    # list of node color\n",
    "    obs_trajectory =[]\n",
    "    # list of node label\n",
    "    truth_trajectory_lables = []\n",
    "    \n",
    "    labels_inv = Graph.graph['labels_inv']\n",
    "    labels = Graph.graph['labels']\n",
    "    \n",
    "    # randomly choose the first node\n",
    "    first = labels_inv[random.choice(range(0,number_node-1))]\n",
    "    # add the node at the end of the list\n",
    "    truth_trajectory.append(first)\n",
    "    obs_trajectory.append(Graph.nodes[first]['color'] )\n",
    "    \n",
    "    for i in range(0,n-1):\n",
    "        \n",
    "        # get the last node in trajectory\n",
    "        last_node = truth_trajectory[-1]\n",
    "        # get the neighbors of the last node\n",
    "        neighbors = [nb for nb in Graph.neighbors(last_node)]\n",
    "        # randomly choose a node in the neighbors of the last node\n",
    "        new_node = random.choice(neighbors)\n",
    "        \n",
    "        # add the node at the end of the list\n",
    "        truth_trajectory.append(new_node)\n",
    "        obs_trajectory.append(Graph.nodes[new_node]['color'] )\n",
    "        \n",
    "    # convert the list with node labels to the list of node\n",
    "    for node in truth_trajectory:\n",
    "        truth_trajectory_lables.append(labels[node])\n",
    "        \n",
    "    return truth_trajectory_lables, obs_trajectory"
   ]
  },
  {
   "cell_type": "code",
   "execution_count": null,
   "metadata": {},
   "outputs": [],
   "source": [
    "# show predefinded graphs in data folder\n",
    "path = os.getcwd() + \"/data/HMM_data\"\n",
    "print(os.listdir(path))\n",
    "\n",
    "# load predefinded graphs in data folder\n",
    "# You can change the filename to load different graph.\n",
    "Graph_random = nx.read_gpickle(\"data/HMM_data/3_3.gpickle\")\n",
    "\n",
    "# You can also try different color matrices\n",
    "# For example, if the camera is very precise, it observes the correct color with a higher probability.\n",
    "# The matrix may looks like this:\n",
    "color_matrix_test = np.eye(len(colorlist)) * 0.5 + 0.01\n",
    "\n",
    "hmm_random = HiddenMarkovModel(Graph_random, colorlist, color_matrix_test)\n",
    "\n",
    "draw_map(hmm_random.Graph, show_labels = True)"
   ]
  },
  {
   "cell_type": "markdown",
   "metadata": {},
   "source": [
    "This figure shows the true trajectory."
   ]
  },
  {
   "cell_type": "code",
   "execution_count": null,
   "metadata": {},
   "outputs": [],
   "source": [
    "obs_length = 5\n",
    "\n",
    "truth_trajectory_lables, obs_trajectory_random = randomly_generate_obs_trajectory(Graph_random, obs_length)\n",
    "print (\"truth trajectory with lables:\", truth_trajectory_lables)\n",
    "\n",
    "draw_trajectory(Graph_random,truth_trajectory_lables)"
   ]
  },
  {
   "cell_type": "markdown",
   "metadata": {},
   "source": [
    "This figure shows the estimated trajectory using hidden markov model and viterbi algorithms."
   ]
  },
  {
   "cell_type": "code",
   "execution_count": null,
   "metadata": {},
   "outputs": [],
   "source": [
    "most_likely_trajectory = return_most_likely_trajectory(hmm_random,obs_trajectory_random)\n",
    "print(\"most likely trajectory:\", most_likely_trajectory)\n",
    "\n",
    "draw_trajectory(Graph_random,most_likely_trajectory)"
   ]
  }
 ],
 "metadata": {
  "kernelspec": {
   "display_name": "Python 3",
   "language": "python",
   "name": "python3"
  },
  "language_info": {
   "codemirror_mode": {
    "name": "ipython",
    "version": 3
   },
   "file_extension": ".py",
   "mimetype": "text/x-python",
   "name": "python",
   "nbconvert_exporter": "python",
   "pygments_lexer": "ipython3",
   "version": "3.8.3"
  }
 },
 "nbformat": 4,
 "nbformat_minor": 4
}